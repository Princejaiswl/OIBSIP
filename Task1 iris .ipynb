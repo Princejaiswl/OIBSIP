{
 "cells": [
  {
   "cell_type": "code",
   "execution_count": 2,
   "id": "5678883f",
   "metadata": {},
   "outputs": [],
   "source": [
    "# importing libraries used is 1st task\n",
    "\n",
    "import pandas as pd\n",
    "import numpy as np\n",
    "import matplotlib.pyplot as plt\n",
    "import sklearn as sk"
   ]
  },
  {
   "cell_type": "markdown",
   "id": "a49c0dfa",
   "metadata": {},
   "source": [
    "# using dataset"
   ]
  },
  {
   "cell_type": "code",
   "execution_count": 4,
   "id": "a439215b",
   "metadata": {},
   "outputs": [
    {
     "data": {
      "text/html": [
       "<div>\n",
       "<style scoped>\n",
       "    .dataframe tbody tr th:only-of-type {\n",
       "        vertical-align: middle;\n",
       "    }\n",
       "\n",
       "    .dataframe tbody tr th {\n",
       "        vertical-align: top;\n",
       "    }\n",
       "\n",
       "    .dataframe thead th {\n",
       "        text-align: right;\n",
       "    }\n",
       "</style>\n",
       "<table border=\"1\" class=\"dataframe\">\n",
       "  <thead>\n",
       "    <tr style=\"text-align: right;\">\n",
       "      <th></th>\n",
       "      <th>Id</th>\n",
       "      <th>SepalLengthCm</th>\n",
       "      <th>SepalWidthCm</th>\n",
       "      <th>PetalLengthCm</th>\n",
       "      <th>PetalWidthCm</th>\n",
       "      <th>Species</th>\n",
       "    </tr>\n",
       "  </thead>\n",
       "  <tbody>\n",
       "    <tr>\n",
       "      <th>0</th>\n",
       "      <td>1</td>\n",
       "      <td>5.1</td>\n",
       "      <td>3.5</td>\n",
       "      <td>1.4</td>\n",
       "      <td>0.2</td>\n",
       "      <td>Iris-setosa</td>\n",
       "    </tr>\n",
       "    <tr>\n",
       "      <th>1</th>\n",
       "      <td>2</td>\n",
       "      <td>4.9</td>\n",
       "      <td>3.0</td>\n",
       "      <td>1.4</td>\n",
       "      <td>0.2</td>\n",
       "      <td>Iris-setosa</td>\n",
       "    </tr>\n",
       "    <tr>\n",
       "      <th>2</th>\n",
       "      <td>3</td>\n",
       "      <td>4.7</td>\n",
       "      <td>3.2</td>\n",
       "      <td>1.3</td>\n",
       "      <td>0.2</td>\n",
       "      <td>Iris-setosa</td>\n",
       "    </tr>\n",
       "    <tr>\n",
       "      <th>3</th>\n",
       "      <td>4</td>\n",
       "      <td>4.6</td>\n",
       "      <td>3.1</td>\n",
       "      <td>1.5</td>\n",
       "      <td>0.2</td>\n",
       "      <td>Iris-setosa</td>\n",
       "    </tr>\n",
       "  </tbody>\n",
       "</table>\n",
       "</div>"
      ],
      "text/plain": [
       "   Id  SepalLengthCm  SepalWidthCm  PetalLengthCm  PetalWidthCm      Species\n",
       "0   1            5.1           3.5            1.4           0.2  Iris-setosa\n",
       "1   2            4.9           3.0            1.4           0.2  Iris-setosa\n",
       "2   3            4.7           3.2            1.3           0.2  Iris-setosa\n",
       "3   4            4.6           3.1            1.5           0.2  Iris-setosa"
      ]
     },
     "execution_count": 4,
     "metadata": {},
     "output_type": "execute_result"
    }
   ],
   "source": [
    "dataset = pd.read_csv('C:/Users/Asus/Desktop/dataset_infobyte/Iris.csv')\n",
    "dataset.head(4)"
   ]
  },
  {
   "cell_type": "code",
   "execution_count": null,
   "id": "faeb48f1",
   "metadata": {},
   "outputs": [],
   "source": [
    "# analyze of data\n",
    "dataset.describe()"
   ]
  },
  {
   "cell_type": "markdown",
   "id": "6b4176ab",
   "metadata": {},
   "source": [
    "# species of iris flower"
   ]
  },
  {
   "cell_type": "code",
   "execution_count": null,
   "id": "8a30c1ee",
   "metadata": {},
   "outputs": [],
   "source": [
    "dataset['Species'].value_counts()"
   ]
  },
  {
   "cell_type": "markdown",
   "id": "b662ce61",
   "metadata": {},
   "source": [
    "# Model training"
   ]
  },
  {
   "cell_type": "markdown",
   "id": "00737c60",
   "metadata": {},
   "source": [
    "dividing data:"
   ]
  },
  {
   "cell_type": "code",
   "execution_count": null,
   "id": "9938d652",
   "metadata": {},
   "outputs": [],
   "source": [
    "from ctypes import sizeof\n",
    "from sklearn.model_selection import train_test_split\n",
    "X = dataset.drop(columns=['Species'])\n",
    "Y = dataset['Species']\n",
    "X_train, X_test, y_train, y_test = train_test_split(X, Y, test_size=0.30, random_state = 42)\n",
    "print('Size of training dataset : ', len(X_train))\n",
    "print('Size of testing dataset : ', len(X_test))\n",
    "     "
   ]
  },
  {
   "cell_type": "markdown",
   "id": "877cf7d5",
   "metadata": {},
   "source": [
    "Logistic Regression:"
   ]
  },
  {
   "cell_type": "code",
   "execution_count": null,
   "id": "32ff0c32",
   "metadata": {},
   "outputs": [],
   "source": [
    "from sklearn.linear_model import LogisticRegression\n",
    "\n",
    "LR_model = LogisticRegression(max_iter=1000)    #iteration limit has been reached so that we using this fun to increase the limit\n",
    "LR_model.fit(X_train, y_train)"
   ]
  },
  {
   "cell_type": "markdown",
   "id": "ee276348",
   "metadata": {},
   "source": [
    "# Model Evaluation"
   ]
  },
  {
   "cell_type": "code",
   "execution_count": null,
   "id": "f6da686c",
   "metadata": {},
   "outputs": [],
   "source": [
    "expected = np.array(y_test)\n",
    "predicted = LR_model.predict(X_test)\n"
   ]
  },
  {
   "cell_type": "code",
   "execution_count": null,
   "id": "c4dc63af",
   "metadata": {},
   "outputs": [],
   "source": [
    "print(\"Accuracy of our Logistic Regression Model :\", LR_model.score(X_test, y_test)*100)"
   ]
  },
  {
   "cell_type": "code",
   "execution_count": null,
   "id": "32a05c92",
   "metadata": {},
   "outputs": [],
   "source": [
    "from sklearn import metrics\n",
    "print('-confusion Matrix : ')\n",
    "print(metrics.confusion_matrix(expected, predicted))"
   ]
  },
  {
   "cell_type": "code",
   "execution_count": null,
   "id": "6ce0c286",
   "metadata": {},
   "outputs": [],
   "source": [
    "print(metrics.classification_report(expected, predicted))     "
   ]
  },
  {
   "cell_type": "code",
   "execution_count": null,
   "id": "2a701c45",
   "metadata": {},
   "outputs": [],
   "source": [
    "for i in range(len(predicted)):\n",
    "  print('Predicted : ' + predicted[i] + '   ||  Actual is : ' + expected[i])"
   ]
  },
  {
   "cell_type": "code",
   "execution_count": null,
   "id": "f7da0614",
   "metadata": {},
   "outputs": [],
   "source": []
  }
 ],
 "metadata": {
  "kernelspec": {
   "display_name": "Python 3 (ipykernel)",
   "language": "python",
   "name": "python3"
  },
  "language_info": {
   "codemirror_mode": {
    "name": "ipython",
    "version": 3
   },
   "file_extension": ".py",
   "mimetype": "text/x-python",
   "name": "python",
   "nbconvert_exporter": "python",
   "pygments_lexer": "ipython3",
   "version": "3.9.13"
  }
 },
 "nbformat": 4,
 "nbformat_minor": 5
}
