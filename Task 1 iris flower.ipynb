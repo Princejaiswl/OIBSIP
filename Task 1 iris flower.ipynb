{
 "cells": [
  {
   "cell_type": "code",
   "execution_count": 12,
   "id": "5678883f",
   "metadata": {},
   "outputs": [],
   "source": [
    "# importing libraries used is 1st task\n",
    "\n",
    "import pandas as pd\n",
    "import numpy as np\n",
    "import matplotlib.pyplot as plt\n",
    "import sklearn as sk"
   ]
  },
  {
   "cell_type": "markdown",
   "id": "a49c0dfa",
   "metadata": {},
   "source": [
    "# using dataset"
   ]
  },
  {
   "cell_type": "code",
   "execution_count": 13,
   "id": "a439215b",
   "metadata": {},
   "outputs": [
    {
     "data": {
      "text/html": [
       "<div>\n",
       "<style scoped>\n",
       "    .dataframe tbody tr th:only-of-type {\n",
       "        vertical-align: middle;\n",
       "    }\n",
       "\n",
       "    .dataframe tbody tr th {\n",
       "        vertical-align: top;\n",
       "    }\n",
       "\n",
       "    .dataframe thead th {\n",
       "        text-align: right;\n",
       "    }\n",
       "</style>\n",
       "<table border=\"1\" class=\"dataframe\">\n",
       "  <thead>\n",
       "    <tr style=\"text-align: right;\">\n",
       "      <th></th>\n",
       "      <th>Id</th>\n",
       "      <th>SepalLengthCm</th>\n",
       "      <th>SepalWidthCm</th>\n",
       "      <th>PetalLengthCm</th>\n",
       "      <th>PetalWidthCm</th>\n",
       "      <th>Species</th>\n",
       "    </tr>\n",
       "  </thead>\n",
       "  <tbody>\n",
       "    <tr>\n",
       "      <th>0</th>\n",
       "      <td>1</td>\n",
       "      <td>5.1</td>\n",
       "      <td>3.5</td>\n",
       "      <td>1.4</td>\n",
       "      <td>0.2</td>\n",
       "      <td>Iris-setosa</td>\n",
       "    </tr>\n",
       "    <tr>\n",
       "      <th>1</th>\n",
       "      <td>2</td>\n",
       "      <td>4.9</td>\n",
       "      <td>3.0</td>\n",
       "      <td>1.4</td>\n",
       "      <td>0.2</td>\n",
       "      <td>Iris-setosa</td>\n",
       "    </tr>\n",
       "    <tr>\n",
       "      <th>2</th>\n",
       "      <td>3</td>\n",
       "      <td>4.7</td>\n",
       "      <td>3.2</td>\n",
       "      <td>1.3</td>\n",
       "      <td>0.2</td>\n",
       "      <td>Iris-setosa</td>\n",
       "    </tr>\n",
       "    <tr>\n",
       "      <th>3</th>\n",
       "      <td>4</td>\n",
       "      <td>4.6</td>\n",
       "      <td>3.1</td>\n",
       "      <td>1.5</td>\n",
       "      <td>0.2</td>\n",
       "      <td>Iris-setosa</td>\n",
       "    </tr>\n",
       "  </tbody>\n",
       "</table>\n",
       "</div>"
      ],
      "text/plain": [
       "   Id  SepalLengthCm  SepalWidthCm  PetalLengthCm  PetalWidthCm      Species\n",
       "0   1            5.1           3.5            1.4           0.2  Iris-setosa\n",
       "1   2            4.9           3.0            1.4           0.2  Iris-setosa\n",
       "2   3            4.7           3.2            1.3           0.2  Iris-setosa\n",
       "3   4            4.6           3.1            1.5           0.2  Iris-setosa"
      ]
     },
     "execution_count": 13,
     "metadata": {},
     "output_type": "execute_result"
    }
   ],
   "source": [
    "dataset = pd.read_csv('C:/Users/Asus/Desktop/dataset_infobyte/Iris.csv')\n",
    "dataset.head(4)"
   ]
  },
  {
   "cell_type": "code",
   "execution_count": 14,
   "id": "faeb48f1",
   "metadata": {},
   "outputs": [
    {
     "data": {
      "text/html": [
       "<div>\n",
       "<style scoped>\n",
       "    .dataframe tbody tr th:only-of-type {\n",
       "        vertical-align: middle;\n",
       "    }\n",
       "\n",
       "    .dataframe tbody tr th {\n",
       "        vertical-align: top;\n",
       "    }\n",
       "\n",
       "    .dataframe thead th {\n",
       "        text-align: right;\n",
       "    }\n",
       "</style>\n",
       "<table border=\"1\" class=\"dataframe\">\n",
       "  <thead>\n",
       "    <tr style=\"text-align: right;\">\n",
       "      <th></th>\n",
       "      <th>Id</th>\n",
       "      <th>SepalLengthCm</th>\n",
       "      <th>SepalWidthCm</th>\n",
       "      <th>PetalLengthCm</th>\n",
       "      <th>PetalWidthCm</th>\n",
       "    </tr>\n",
       "  </thead>\n",
       "  <tbody>\n",
       "    <tr>\n",
       "      <th>count</th>\n",
       "      <td>150.000000</td>\n",
       "      <td>150.000000</td>\n",
       "      <td>150.000000</td>\n",
       "      <td>150.000000</td>\n",
       "      <td>150.000000</td>\n",
       "    </tr>\n",
       "    <tr>\n",
       "      <th>mean</th>\n",
       "      <td>75.500000</td>\n",
       "      <td>5.843333</td>\n",
       "      <td>3.054000</td>\n",
       "      <td>3.758667</td>\n",
       "      <td>1.198667</td>\n",
       "    </tr>\n",
       "    <tr>\n",
       "      <th>std</th>\n",
       "      <td>43.445368</td>\n",
       "      <td>0.828066</td>\n",
       "      <td>0.433594</td>\n",
       "      <td>1.764420</td>\n",
       "      <td>0.763161</td>\n",
       "    </tr>\n",
       "    <tr>\n",
       "      <th>min</th>\n",
       "      <td>1.000000</td>\n",
       "      <td>4.300000</td>\n",
       "      <td>2.000000</td>\n",
       "      <td>1.000000</td>\n",
       "      <td>0.100000</td>\n",
       "    </tr>\n",
       "    <tr>\n",
       "      <th>25%</th>\n",
       "      <td>38.250000</td>\n",
       "      <td>5.100000</td>\n",
       "      <td>2.800000</td>\n",
       "      <td>1.600000</td>\n",
       "      <td>0.300000</td>\n",
       "    </tr>\n",
       "    <tr>\n",
       "      <th>50%</th>\n",
       "      <td>75.500000</td>\n",
       "      <td>5.800000</td>\n",
       "      <td>3.000000</td>\n",
       "      <td>4.350000</td>\n",
       "      <td>1.300000</td>\n",
       "    </tr>\n",
       "    <tr>\n",
       "      <th>75%</th>\n",
       "      <td>112.750000</td>\n",
       "      <td>6.400000</td>\n",
       "      <td>3.300000</td>\n",
       "      <td>5.100000</td>\n",
       "      <td>1.800000</td>\n",
       "    </tr>\n",
       "    <tr>\n",
       "      <th>max</th>\n",
       "      <td>150.000000</td>\n",
       "      <td>7.900000</td>\n",
       "      <td>4.400000</td>\n",
       "      <td>6.900000</td>\n",
       "      <td>2.500000</td>\n",
       "    </tr>\n",
       "  </tbody>\n",
       "</table>\n",
       "</div>"
      ],
      "text/plain": [
       "               Id  SepalLengthCm  SepalWidthCm  PetalLengthCm  PetalWidthCm\n",
       "count  150.000000     150.000000    150.000000     150.000000    150.000000\n",
       "mean    75.500000       5.843333      3.054000       3.758667      1.198667\n",
       "std     43.445368       0.828066      0.433594       1.764420      0.763161\n",
       "min      1.000000       4.300000      2.000000       1.000000      0.100000\n",
       "25%     38.250000       5.100000      2.800000       1.600000      0.300000\n",
       "50%     75.500000       5.800000      3.000000       4.350000      1.300000\n",
       "75%    112.750000       6.400000      3.300000       5.100000      1.800000\n",
       "max    150.000000       7.900000      4.400000       6.900000      2.500000"
      ]
     },
     "execution_count": 14,
     "metadata": {},
     "output_type": "execute_result"
    }
   ],
   "source": [
    "# analyze of data\n",
    "dataset.describe()"
   ]
  },
  {
   "cell_type": "markdown",
   "id": "6b4176ab",
   "metadata": {},
   "source": [
    "# species of iris flower"
   ]
  },
  {
   "cell_type": "code",
   "execution_count": 15,
   "id": "8a30c1ee",
   "metadata": {},
   "outputs": [
    {
     "data": {
      "text/plain": [
       "Iris-setosa        50\n",
       "Iris-versicolor    50\n",
       "Iris-virginica     50\n",
       "Name: Species, dtype: int64"
      ]
     },
     "execution_count": 15,
     "metadata": {},
     "output_type": "execute_result"
    }
   ],
   "source": [
    "dataset['Species'].value_counts()"
   ]
  },
  {
   "cell_type": "markdown",
   "id": "b662ce61",
   "metadata": {},
   "source": [
    "# Model training"
   ]
  },
  {
   "cell_type": "markdown",
   "id": "00737c60",
   "metadata": {},
   "source": [
    "dividing data:"
   ]
  },
  {
   "cell_type": "code",
   "execution_count": 16,
   "id": "9938d652",
   "metadata": {},
   "outputs": [
    {
     "name": "stdout",
     "output_type": "stream",
     "text": [
      "Size of training dataset :  105\n",
      "Size of testing dataset :  45\n"
     ]
    }
   ],
   "source": [
    "from ctypes import sizeof\n",
    "from sklearn.model_selection import train_test_split\n",
    "X = dataset.drop(columns=['Species'])\n",
    "Y = dataset['Species']\n",
    "X_train, X_test, y_train, y_test = train_test_split(X, Y, test_size=0.30, random_state = 42)\n",
    "print('Size of training dataset : ', len(X_train))\n",
    "print('Size of testing dataset : ', len(X_test))\n",
    "     "
   ]
  },
  {
   "cell_type": "markdown",
   "id": "877cf7d5",
   "metadata": {},
   "source": [
    "Logistic Regression:"
   ]
  },
  {
   "cell_type": "code",
   "execution_count": 17,
   "id": "32ff0c32",
   "metadata": {},
   "outputs": [
    {
     "data": {
      "text/plain": [
       "LogisticRegression(max_iter=1000)"
      ]
     },
     "execution_count": 17,
     "metadata": {},
     "output_type": "execute_result"
    }
   ],
   "source": [
    "from sklearn.linear_model import LogisticRegression\n",
    "\n",
    "LR_model = LogisticRegression(max_iter=1000)    #iteration limit has been reached so that we using this fun to increase the limit\n",
    "LR_model.fit(X_train, y_train)"
   ]
  },
  {
   "cell_type": "markdown",
   "id": "ee276348",
   "metadata": {},
   "source": [
    "# Model Evaluation"
   ]
  },
  {
   "cell_type": "code",
   "execution_count": 18,
   "id": "f6da686c",
   "metadata": {},
   "outputs": [],
   "source": [
    "expected = np.array(y_test)\n",
    "predicted = LR_model.predict(X_test)\n"
   ]
  },
  {
   "cell_type": "code",
   "execution_count": 19,
   "id": "c4dc63af",
   "metadata": {},
   "outputs": [
    {
     "name": "stdout",
     "output_type": "stream",
     "text": [
      "Accuracy of our Logistic Regression Model : 100.0\n"
     ]
    }
   ],
   "source": [
    "print(\"Accuracy of our Logistic Regression Model :\", LR_model.score(X_test, y_test)*100)"
   ]
  },
  {
   "cell_type": "code",
   "execution_count": 20,
   "id": "32a05c92",
   "metadata": {},
   "outputs": [
    {
     "name": "stdout",
     "output_type": "stream",
     "text": [
      "-confusion Matrix : \n",
      "[[19  0  0]\n",
      " [ 0 13  0]\n",
      " [ 0  0 13]]\n"
     ]
    }
   ],
   "source": [
    "from sklearn import metrics\n",
    "print('-confusion Matrix : ')\n",
    "print(metrics.confusion_matrix(expected, predicted))"
   ]
  },
  {
   "cell_type": "code",
   "execution_count": 21,
   "id": "6ce0c286",
   "metadata": {},
   "outputs": [
    {
     "name": "stdout",
     "output_type": "stream",
     "text": [
      "                 precision    recall  f1-score   support\n",
      "\n",
      "    Iris-setosa       1.00      1.00      1.00        19\n",
      "Iris-versicolor       1.00      1.00      1.00        13\n",
      " Iris-virginica       1.00      1.00      1.00        13\n",
      "\n",
      "       accuracy                           1.00        45\n",
      "      macro avg       1.00      1.00      1.00        45\n",
      "   weighted avg       1.00      1.00      1.00        45\n",
      "\n"
     ]
    }
   ],
   "source": [
    "print(metrics.classification_report(expected, predicted))     "
   ]
  },
  {
   "cell_type": "code",
   "execution_count": 22,
   "id": "2a701c45",
   "metadata": {},
   "outputs": [
    {
     "name": "stdout",
     "output_type": "stream",
     "text": [
      "Predicted : Iris-versicolor   ||  Actual is : Iris-versicolor\n",
      "Predicted : Iris-setosa   ||  Actual is : Iris-setosa\n",
      "Predicted : Iris-virginica   ||  Actual is : Iris-virginica\n",
      "Predicted : Iris-versicolor   ||  Actual is : Iris-versicolor\n",
      "Predicted : Iris-versicolor   ||  Actual is : Iris-versicolor\n",
      "Predicted : Iris-setosa   ||  Actual is : Iris-setosa\n",
      "Predicted : Iris-versicolor   ||  Actual is : Iris-versicolor\n",
      "Predicted : Iris-virginica   ||  Actual is : Iris-virginica\n",
      "Predicted : Iris-versicolor   ||  Actual is : Iris-versicolor\n",
      "Predicted : Iris-versicolor   ||  Actual is : Iris-versicolor\n",
      "Predicted : Iris-virginica   ||  Actual is : Iris-virginica\n",
      "Predicted : Iris-setosa   ||  Actual is : Iris-setosa\n",
      "Predicted : Iris-setosa   ||  Actual is : Iris-setosa\n",
      "Predicted : Iris-setosa   ||  Actual is : Iris-setosa\n",
      "Predicted : Iris-setosa   ||  Actual is : Iris-setosa\n",
      "Predicted : Iris-versicolor   ||  Actual is : Iris-versicolor\n",
      "Predicted : Iris-virginica   ||  Actual is : Iris-virginica\n",
      "Predicted : Iris-versicolor   ||  Actual is : Iris-versicolor\n",
      "Predicted : Iris-versicolor   ||  Actual is : Iris-versicolor\n",
      "Predicted : Iris-virginica   ||  Actual is : Iris-virginica\n",
      "Predicted : Iris-setosa   ||  Actual is : Iris-setosa\n",
      "Predicted : Iris-virginica   ||  Actual is : Iris-virginica\n",
      "Predicted : Iris-setosa   ||  Actual is : Iris-setosa\n",
      "Predicted : Iris-virginica   ||  Actual is : Iris-virginica\n",
      "Predicted : Iris-virginica   ||  Actual is : Iris-virginica\n",
      "Predicted : Iris-virginica   ||  Actual is : Iris-virginica\n",
      "Predicted : Iris-virginica   ||  Actual is : Iris-virginica\n",
      "Predicted : Iris-virginica   ||  Actual is : Iris-virginica\n",
      "Predicted : Iris-setosa   ||  Actual is : Iris-setosa\n",
      "Predicted : Iris-setosa   ||  Actual is : Iris-setosa\n",
      "Predicted : Iris-setosa   ||  Actual is : Iris-setosa\n",
      "Predicted : Iris-setosa   ||  Actual is : Iris-setosa\n",
      "Predicted : Iris-versicolor   ||  Actual is : Iris-versicolor\n",
      "Predicted : Iris-setosa   ||  Actual is : Iris-setosa\n",
      "Predicted : Iris-setosa   ||  Actual is : Iris-setosa\n",
      "Predicted : Iris-virginica   ||  Actual is : Iris-virginica\n",
      "Predicted : Iris-versicolor   ||  Actual is : Iris-versicolor\n",
      "Predicted : Iris-setosa   ||  Actual is : Iris-setosa\n",
      "Predicted : Iris-setosa   ||  Actual is : Iris-setosa\n",
      "Predicted : Iris-setosa   ||  Actual is : Iris-setosa\n",
      "Predicted : Iris-virginica   ||  Actual is : Iris-virginica\n",
      "Predicted : Iris-versicolor   ||  Actual is : Iris-versicolor\n",
      "Predicted : Iris-versicolor   ||  Actual is : Iris-versicolor\n",
      "Predicted : Iris-setosa   ||  Actual is : Iris-setosa\n",
      "Predicted : Iris-setosa   ||  Actual is : Iris-setosa\n"
     ]
    }
   ],
   "source": [
    "for i in range(len(predicted)):\n",
    "  print('Predicted : ' + predicted[i] + '   ||  Actual is : ' + expected[i])"
   ]
  },
  {
   "cell_type": "code",
   "execution_count": null,
   "id": "f7da0614",
   "metadata": {},
   "outputs": [],
   "source": []
  },
  {
   "cell_type": "code",
   "execution_count": null,
   "id": "0cebc4fe",
   "metadata": {},
   "outputs": [],
   "source": []
  }
 ],
 "metadata": {
  "kernelspec": {
   "display_name": "Python 3 (ipykernel)",
   "language": "python",
   "name": "python3"
  },
  "language_info": {
   "codemirror_mode": {
    "name": "ipython",
    "version": 3
   },
   "file_extension": ".py",
   "mimetype": "text/x-python",
   "name": "python",
   "nbconvert_exporter": "python",
   "pygments_lexer": "ipython3",
   "version": "3.9.13"
  }
 },
 "nbformat": 4,
 "nbformat_minor": 5
}
